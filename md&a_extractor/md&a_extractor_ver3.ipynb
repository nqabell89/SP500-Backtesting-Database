{
 "cells": [
  {
   "cell_type": "code",
   "execution_count": null,
   "metadata": {},
   "outputs": [],
   "source": [
    "# Remove tables\n",
    "# All the way to Item 8\n",
    "def extractItem7(page, htmlpath):\n",
    "\n",
    "    #Pre-processing the html content by removing extra white space and combining then into one line.\n",
    "    page = page.strip()  #<=== remove white space at the beginning and end\n",
    "    page = page.replace('\\n', ' ') #<===replace the \\n (new line) character with space\n",
    "    page = page.replace('\\r', '') #<===replace the \\r (carriage returns -if you're on windows) with space\n",
    "    page = page.replace('&nbsp;', ' ') #<===replace \"&nbsp;\" (a special character for space in HTML) with space. \n",
    "    page = page.replace('&#160;', ' ') #<===replace \"&#160;\" (a special character for space in HTML) with space.\n",
    "    while '  ' in page:\n",
    "        page = page.replace('  ', ' ') #<===remove extra space\n",
    "\n",
    "    #Using regular expression to extract texts that match a pattern\n",
    "    regexs = ('bold;\\\">\\s*Item 7\\.(.+?)bold;\\\">\\s*Item 8\\.',   #<===pattern 1: with an attribute bold before the item subtitle\n",
    "              'b>\\s*Item 7\\.(.+?)b>\\s*Item 8\\.',               #<===pattern 2: with a tag <b> before the item subtitle\n",
    "              'Item 7\\.\\s*<\\/b>(.+?)Item 8\\.\\s*<\\/b>',         #<===pattern 3: with a tag <\\b> after the item subtitle          \n",
    "              'Item 7\\.\\s*Management\\.\\s*<\\/b(.+?)Item 8\\.\\s*Financial\\.\\s*<\\/b') #<===pattern 4: with a tag <\\b> after the item+description subtitle \n",
    "\n",
    "    for regex in regexs:\n",
    "        match = re.search (regex, page, flags=re.IGNORECASE)  #<===search for the pattern in HTML using re.search from the re package. Ignore cases.\n",
    "\n",
    "        if match:\n",
    "            try:\n",
    "                # Write the Item 7 portion of 10K into as an HTML file\n",
    "                soup = BeautifulSoup(match.group(1), \"html.parser\") #<=== match.group(1) returns the texts inside the parentheses (.*?) \n",
    "                #print soup.prettify()\n",
    "                htmlfile = open(htmlpath,'w')\n",
    "                htmlfile.write(soup.prettify())\n",
    "                htmlfile.close()\n",
    "\n",
    "                break  \n",
    "            except:\n",
    "                print ('Problem:', htmlpath)\n",
    "\n",
    "    return"
   ]
  }
 ],
 "metadata": {
  "kernelspec": {
   "display_name": "Python 3",
   "language": "python",
   "name": "python3"
  },
  "language_info": {
   "codemirror_mode": {
    "name": "ipython",
    "version": 3
   },
   "file_extension": ".py",
   "mimetype": "text/x-python",
   "name": "python",
   "nbconvert_exporter": "python",
   "pygments_lexer": "ipython3",
   "version": "3.7.4"
  }
 },
 "nbformat": 4,
 "nbformat_minor": 4
}
